{
 "cells": [
  {
   "cell_type": "markdown",
   "metadata": {
    "id": "u36GTsA84-f6"
   },
   "source": [
    "### Libraries"
   ]
  },
  {
   "cell_type": "code",
   "execution_count": 134,
   "metadata": {
    "id": "VWfY3KVR_3kM"
   },
   "outputs": [],
   "source": [
    "from keras import backend as K\n",
    "from keras.engine.topology import Layer\n",
    "from keras.layers import Input, Dense, Activation, Flatten, Conv2D, MaxPooling2D, BatchNormalization, GlobalAveragePooling2D, AveragePooling2D, TimeDistributed, Concatenate, Lambda\n",
    "import os\n",
    "import tensorflow as tf\n",
    "import numpy as np\n",
    "import pandas as pd\n",
    "import cv2\n",
    "import random\n",
    "import copy\n",
    "import pdb\n",
    "import math\n",
    "import time\n",
    "import itertools\n",
    "import pprint\n",
    "import sys\n",
    "from optparse import OptionParser\n",
    "import pickle\n",
    "from keras.optimizers import Adam, SGD, RMSprop\n",
    "from keras.models import Model\n",
    "from keras.utils import generic_utils\n",
    "from keras.callbacks import TensorBoard\n",
    "from keras.engine import Layer, InputSpec\n",
    "from keras import initializers, regularizers\n",
    "from keras.objectives import categorical_crossentropy\n",
    "import warnings\n",
    "warnings.filterwarnings('ignore')"
   ]
  },
  {
   "cell_type": "code",
   "execution_count": 135,
   "metadata": {
    "colab": {
     "base_uri": "https://localhost:8080/"
    },
    "id": "aYJbz4N2Sug7",
    "outputId": "4696552a-c679-4bd2-bde8-d622c3597312"
   },
   "outputs": [
    {
     "name": "stdout",
     "output_type": "stream",
     "text": [
      "/content/drive/MyDrive/models/research/object_detection/images/train\n"
     ]
    }
   ],
   "source": [
    "%cd /content/drive/MyDrive/models/research/object_detection/images/train"
   ]
  },
  {
   "cell_type": "code",
   "execution_count": 136,
   "metadata": {
    "colab": {
     "base_uri": "https://localhost:8080/",
     "height": 35
    },
    "id": "qYrXJYLoSx_5",
    "outputId": "cc1ec001-14da-4068-91c1-43b180397655"
   },
   "outputs": [
    {
     "data": {
      "application/vnd.google.colaboratory.intrinsic+json": {
       "type": "string"
      },
      "text/plain": [
       "'/content/drive/MyDrive/models/research/object_detection/images/train'"
      ]
     },
     "execution_count": 136,
     "metadata": {
      "tags": []
     },
     "output_type": "execute_result"
    }
   ],
   "source": [
    "# Setting the home directory.\n",
    "%pwd"
   ]
  },
  {
   "cell_type": "code",
   "execution_count": 137,
   "metadata": {
    "id": "EZZKBbM-AAsI"
   },
   "outputs": [],
   "source": [
    "# Defining the class for the initial configration of the model\n",
    "class Config:\n",
    "  def __init__(self):\n",
    "    self.verbose = True\n",
    "    # base CNN model\n",
    "    self.network = 'inception_resnet_v2'\n",
    "    # setting for data augmentation\n",
    "    self.use_horizontal_flips = False\n",
    "    self.use_vertical_flips = False\n",
    "    self.rot_90 = False\n",
    "    # anchor box scales\n",
    "    self.anchor_box_scales = [128, 256, 512]\n",
    "    # anchor box ratios\n",
    "    self.anchor_box_ratios = [[1, 1], [1, 2], [2, 1]]\n",
    "    # size to resize the smallest side of the image\n",
    "    self.im_size = 600\n",
    "    self.img_channel_mean = [158.46, 166.39, 135.75]\n",
    "    self.img_scaling_factor = 1.0\n",
    "    self.num_rois = 32\n",
    "    self.rpn_stride = 16\n",
    "    self.balanced_classes = False\n",
    "    self.std_scaling = 4.0\n",
    "    self.classifier_regr_std = [8.0, 8.0, 4.0, 4.0]\n",
    "    self.rpn_min_overlap = 0.3\n",
    "    self.rpn_max_overlap = 0.7\n",
    "    self.classifier_min_overlap = 0.1\n",
    "    self.classifier_max_overlap = 0.5\n",
    "    self.class_mapping = None\n",
    "    self.model_path = 'model_frcnn.{}.hdf5'.format(self.network)"
   ]
  },
  {
   "cell_type": "code",
   "execution_count": 138,
   "metadata": {
    "id": "vMNXFSFCDTk7"
   },
   "outputs": [],
   "source": [
    "# function to map the target variable to the feature varialbes\n",
    "def get_data(input_path):\n",
    "  found_bg = False\n",
    "  all_imgs = {}\n",
    "  classes_count = {}\n",
    "  class_mapping = {}\n",
    "  visualise = True\n",
    "  df = pd.read_csv(input_path).values\n",
    "  for line in df:\n",
    "    (filename, x1, y1, x2, y2, class_name) = line\n",
    "    if class_name not in classes_count:\n",
    "      classes_count[class_name] = 1\n",
    "    else:\n",
    "      classes_count[class_name] += 1\n",
    "    if class_name not in class_mapping:\n",
    "      if class_name == 'bg' and found_bg == False:\n",
    "        print('Found class name with special name bg. Will be treated as a background region (this is usually for hard negative mining).')\n",
    "        found_bg = True\n",
    "      class_mapping[class_name] = len(class_mapping)\n",
    "    if filename not in all_imgs:\n",
    "      all_imgs[filename] = {}\n",
    "      img = cv2.imread(filename)\n",
    "      (rows,cols) = img.shape[:2]\n",
    "      all_imgs[filename]['filepath'] = filename\n",
    "      all_imgs[filename]['width'] = cols\n",
    "      all_imgs[filename]['height'] = rows\n",
    "      all_imgs[filename]['bboxes'] = []\n",
    "    all_imgs[filename]['bboxes'].append({'class': class_name, 'x1': int(x1), 'x2': int(x2), 'y1': int(y1), 'y2': int(y2)})\n",
    "  all_data = []\n",
    "  for key in all_imgs:\n",
    "    all_data.append(all_imgs[key])\n",
    "  if found_bg:\n",
    "    if class_mapping['bg'] != len(class_mapping) - 1:\n",
    "      key_to_switch = [key for key in class_mapping.keys() if class_mapping[key] == len(class_mapping)-1][0]\n",
    "      val_to_switch = class_mapping['bg']\n",
    "      class_mapping['bg'] = len(class_mapping) - 1\n",
    "      class_mapping[key_to_switch] = val_to_switch\n",
    "  return all_data, classes_count, class_mapping"
   ]
  },
  {
   "cell_type": "code",
   "execution_count": 139,
   "metadata": {
    "id": "6ytG1doeFn9B"
   },
   "outputs": [],
   "source": [
    "# Defining the class to generate the RPN layer\n",
    "class RoiPoolingConv(Layer):\n",
    "  def __init__(self, pool_size, num_rois, **kwargs):\n",
    "    self.dim_ordering = K.image_data_format()\n",
    "    self.pool_size = pool_size\n",
    "    self.num_rois = num_rois\n",
    "    super(RoiPoolingConv, self).__init__(**kwargs)\n",
    "  def build(self, input_shape):\n",
    "    self.nb_channels = input_shape[0][3]\n",
    "  def compute_output_shape(self, input_shape):\n",
    "    return None, self.num_rois, self.pool_size, self.pool_size, self.nb_channels\n",
    "  def call(self, x, mask=None):\n",
    "    assert(len(x) == 2)\n",
    "    img = x[0]\n",
    "    rois = x[1]\n",
    "    input_shape = K.shape(img)\n",
    "    outputs = []\n",
    "    for roi_idx in range(self.num_rois):\n",
    "      x = rois[0, roi_idx, 0]\n",
    "      y = rois[0, roi_idx, 1]\n",
    "      w = rois[0, roi_idx, 2]\n",
    "      h = rois[0, roi_idx, 3]\n",
    "      row_length = w / float(self.pool_size)\n",
    "      col_length = h / float(self.pool_size)\n",
    "      num_pool_regions = self.pool_size\n",
    "      x = K.cast(x, 'int32')\n",
    "      y = K.cast(y, 'int32')\n",
    "      w = K.cast(w, 'int32')\n",
    "      h = K.cast(h, 'int32')\n",
    "      rs = tf.image.resize(img[:, y:y+h, x:x+w, :], (self.pool_size, self.pool_size))\n",
    "      outputs.append(rs)\n",
    "    final_output = K.concatenate(outputs, axis=0)\n",
    "    final_output = K.reshape(final_output, (1, self.num_rois, self.pool_size, self.pool_size, self.nb_channels))\n",
    "    final_output = K.permute_dimensions(final_output, (0, 1, 2, 3, 4))\n",
    "    return final_output"
   ]
  },
  {
   "cell_type": "code",
   "execution_count": 140,
   "metadata": {
    "id": "gvstbWX5Ib0g"
   },
   "outputs": [],
   "source": [
    "# Defining a class for Batchnormalization layer for the network\n",
    "class FixedBatchNormalization(Layer):\n",
    "  def __init__(self , epsilon = 1e-3, axis = -1, weights = None, beta_init = 'zero', gamma_init = 'one',\n",
    "               gamma_regularizer = None, beta_regularizer = None, **kwargs):\n",
    "    self.supports_masking = True\n",
    "    self.beta_init = initializers.get(beta_init)\n",
    "    self.gamma_init = initializers.get(gamma_init)\n",
    "    self.epsilon = epsilon\n",
    "    self.axis = axis\n",
    "    self.gamma_regularizer = regularizers.get(gamma_regularizer)\n",
    "    self.beta_regularizer = regularizers.get(beta_regularizer)\n",
    "    self.initial_weights = weights\n",
    "    super(FixedBatchNormalization, self).__init__(**kwargs)\n",
    "\n",
    "  def build(self, input_shape):\n",
    "    self.input_spec = [InputSpec(shape=input_shape)]\n",
    "    shape = (input_shape[self.axis],)\n",
    "    self.gamma = self.add_weight(shape,initializer=self.gamma_init,\n",
    "                                 regularizer=self.gamma_regularizer,\n",
    "                                 name='{}_gamma'.format(self.name),trainable=False)\n",
    "    self.beta = self.add_weight(shape,initializer=self.beta_init,\n",
    "                                regularizer=self.beta_regularizer,\n",
    "                                name='{}_beta'.format(self.name),\n",
    "                                trainable=False)\n",
    "    self.running_mean = self.add_weight(shape, initializer='zero',\n",
    "                                        name='{}_running_mean'.format(self.name),\n",
    "                                        trainable=False)\n",
    "    self.running_std = self.add_weight(shape, initializer='one',\n",
    "                                       name='{}_running_std'.format(self.name),\n",
    "                                       trainable=False)\n",
    "    if self.initial_weights is not None:\n",
    "      self.set_weights(self.initial_weights)\n",
    "      del self.initial_weights\n",
    "    self.built = True\n",
    "  \n",
    "  def call(self, x, mask = None):\n",
    "    assert self.built, 'Layer must be built before being called'\n",
    "    input_shape = K.int_shape(x)\n",
    "    reduction_axes = list(range(len(input_shape)))\n",
    "    del reduction_axes[self.axis]\n",
    "    broadcast_shape = [1] * len(input_shape)\n",
    "    broadcast_shape[self.axis] = input_shape[self.axis]\n",
    "    if sorted(reduction_axes) == range(K.ndim(x))[:-1]:\n",
    "      x_normed = K.batch_normalization(\n",
    "          x, self.running_mean, self.running_std,\n",
    "          self.beta, self.gamma,\n",
    "          epsilon=self.epsilon)\n",
    "    else:\n",
    "      broadcast_running_mean = K.reshape(self.running_mean, broadcast_shape)\n",
    "      broadcast_running_std = K.reshape(self.running_std, broadcast_shape)\n",
    "      broadcast_beta = K.reshape(self.beta, broadcast_shape)\n",
    "      broadcast_gamma = K.reshape(self.gamma, broadcast_shape)\n",
    "      x_normed = K.batch_normalization(\n",
    "          x, broadcast_running_mean, broadcast_running_std,\n",
    "          broadcast_beta, broadcast_gamma,\n",
    "          epsilon=self.epsilon)\n",
    "    return x_normed\n",
    "\n",
    "  def get_config(self):\n",
    "    config = {'epsilon': self.epsilon,\n",
    "              'axis': self.axis,\n",
    "              'gamma_regularizer': self.gamma_regularizer.get_config() if self.gamma_regularizer else None,\n",
    "              'beta_regularizer': self.beta_regularizer.get_config() if self.beta_regularizer else None}\n",
    "    base_config = super(FixedBatchNormalization, self).get_config()\n",
    "    return dict(list(base_config.items()) + list(config.items()))"
   ]
  },
  {
   "cell_type": "code",
   "execution_count": 141,
   "metadata": {
    "id": "3abj9R4TMZgy"
   },
   "outputs": [],
   "source": [
    "def get_img_output_length(width, height):\n",
    "  def get_output_length(input_length):\n",
    "    filter_sizes = [3, 3, 3, 3, 3, 3]\n",
    "    strides = [2, 1, 2, 1, 2, 2]\n",
    "    assert len(filter_sizes) == len(strides)\n",
    "    for i in range(len(filter_sizes)):\n",
    "      input_length = (input_length - filter_sizes[i]) // strides[i] + 1\n",
    "    return input_length\n",
    "  return get_output_length(width), get_output_length(height)\n",
    "\n",
    "def conv2d_bn(x,\n",
    "              filters,\n",
    "              kernel_size,\n",
    "              strides=1,\n",
    "              padding='same',\n",
    "              activation='relu',\n",
    "              use_bias=False,\n",
    "              name=None):\n",
    "  x = Conv2D(filters,\n",
    "             kernel_size,\n",
    "             strides=strides,\n",
    "             padding=padding,\n",
    "             use_bias=use_bias,\n",
    "             name=name)(x)\n",
    "  if not use_bias:\n",
    "    bn_axis = 1 if K.image_data_format() == 'channels_first' else 3\n",
    "    bn_name = None if name is None else name + '_bn'\n",
    "    x = BatchNormalization(axis=bn_axis,\n",
    "                           scale=False,\n",
    "                           name=bn_name)(x)\n",
    "  if activation is not None:\n",
    "    ac_name = None if name is None else name + '_ac'\n",
    "    x = Activation(activation, name=ac_name)(x)\n",
    "  return x\n",
    "\n",
    "def conv2d_bn_td(x,\n",
    "                 filters,\n",
    "                 kernel_size,\n",
    "                 strides = 1,\n",
    "                 padding = 'same',\n",
    "                 activation = 'relu',\n",
    "                 use_bias = False,\n",
    "                 name = None):\n",
    "  x = TimeDistributed(Conv2D(filters,\n",
    "                             kernel_size,\n",
    "                             strides = strides,\n",
    "                             padding = padding,\n",
    "                             use_bias = use_bias),\n",
    "                      name = name)(x)\n",
    "  if not use_bias:\n",
    "    bn_axis = 1 if K.image_data_format() == 'channels_first' else 3\n",
    "    bn_name = None if name is None else name + '_bn'\n",
    "    x = TimeDistributed(BatchNormalization(axis=bn_axis,\n",
    "                                           scale=False),\n",
    "                        name=bn_name)(x)\n",
    "  if activation is not None:\n",
    "    ac_name = None if name is None else name + '_ac'\n",
    "    x = Activation(activation, name=ac_name)(x)\n",
    "  return x\n",
    "\n",
    "def inception_resnet_block(x, scale, block_type, block_idx, activation='relu'):\n",
    "  block_name = block_type + '_' + str(block_idx)\n",
    "  if block_type == 'block35':\n",
    "    branch_0 = conv2d_bn(x, 32, 1, name=block_name + '_conv1')\n",
    "    branch_1 = conv2d_bn(x, 32, 1, name=block_name + '_conv2')\n",
    "    branch_1 = conv2d_bn(branch_1, 32, 3, name=block_name + '_conv3')\n",
    "    branch_2 = conv2d_bn(x, 32, 1, name=block_name + '_conv4')\n",
    "    branch_2 = conv2d_bn(branch_2, 48, 3, name=block_name + '_conv5')\n",
    "    branch_2 = conv2d_bn(branch_2, 64, 3, name=block_name + '_conv6')\n",
    "    branches = [branch_0, branch_1, branch_2]\n",
    "  elif block_type == 'block17':\n",
    "    branch_0 = conv2d_bn(x, 192, 1, name=block_name + '_conv1')\n",
    "    branch_1 = conv2d_bn(x, 128, 1, name=block_name + '_conv2')\n",
    "    branch_1 = conv2d_bn(branch_1, 160, [1, 7], name=block_name + '_conv3')\n",
    "    branch_1 = conv2d_bn(branch_1, 192, [7, 1], name=block_name + '_conv4')\n",
    "    branches = [branch_0, branch_1]\n",
    "  elif block_type == 'block8':\n",
    "    branch_0 = conv2d_bn(x, 192, 1, name=block_name + '_conv1')\n",
    "    branch_1 = conv2d_bn(x, 192, 1, name=block_name + '_conv2')\n",
    "    branch_1 = conv2d_bn(branch_1, 224, [1, 3], name=block_name + '_conv3')\n",
    "    branch_1 = conv2d_bn(branch_1, 256, [3, 1], name=block_name + '_conv4')\n",
    "    branches = [branch_0, branch_1]\n",
    "  else:\n",
    "    raise ValueError('Unknown Inception-ResNet block type. '\n",
    "                         'Expects \"block35\", \"block17\" or \"block8\", '\n",
    "                         'but got: ' + str(block_type))\n",
    "  channel_axis = 1 if K.image_data_format() == 'channels_first' else 3\n",
    "  mixed = Concatenate(axis=channel_axis, name=block_name + '_mixed')(branches)\n",
    "  up = conv2d_bn(mixed,\n",
    "                 K.int_shape(x)[channel_axis],\n",
    "                 1,\n",
    "                 activation=None,\n",
    "                 use_bias=True,\n",
    "                 name=block_name + '_conv')\n",
    "  x = Lambda(lambda inputs, scale: inputs[0] + inputs[1] * scale,\n",
    "             output_shape=K.int_shape(x)[1:],\n",
    "             arguments={'scale': scale},\n",
    "             name=block_name)([x, up]) \n",
    "  if activation is not None:\n",
    "    x = Activation(activation, name=block_name + '_ac')(x)\n",
    "  return x\n",
    "\n",
    "def inception_resnet_block_td(x, scale, block_type, block_idx, activation='relu'):\n",
    "  block_name = block_type + '_' + str(block_idx)\n",
    "  if block_type == 'block35':\n",
    "    branch_0 = conv2d_bn_td(x, 32, 1, name=block_name + '_conv1')\n",
    "    branch_1 = conv2d_bn_td(x, 32, 1, name=block_name + '_conv2')\n",
    "    branch_1 = conv2d_bn_td(branch_1, 32, 3, name=block_name + '_conv3')\n",
    "    branch_2 = conv2d_bn_td(x, 32, 1, name=block_name + '_conv4')\n",
    "    branch_2 = conv2d_bn_td(branch_2, 48, 3, name=block_name + '_conv5')\n",
    "    branch_2 = conv2d_bn_td(branch_2, 64, 3, name=block_name + '_conv6')\n",
    "    branches = [branch_0, branch_1, branch_2]\n",
    "  elif block_type == 'block17':\n",
    "    branch_0 = conv2d_bn_td(x, 192, 1, name=block_name + '_conv1')\n",
    "    branch_1 = conv2d_bn_td(x, 128, 1, name=block_name + '_conv2')\n",
    "    branch_1 = conv2d_bn_td(branch_1, 160, [1, 7], name=block_name + '_conv3')\n",
    "    branch_1 = conv2d_bn_td(branch_1, 192, [7, 1], name=block_name + '_conv4')\n",
    "    branches = [branch_0, branch_1]\n",
    "  elif block_type == 'block8':\n",
    "    branch_0 = conv2d_bn_td(x, 192, 1, name=block_name + '_conv1')\n",
    "    branch_1 = conv2d_bn_td(x, 192, 1, name=block_name + '_conv2')\n",
    "    branch_1 = conv2d_bn_td(branch_1, 224, [1, 3], name=block_name + '_conv3')\n",
    "    branch_1 = conv2d_bn_td(branch_1, 256, [3, 1], name=block_name + '_conv4')\n",
    "    branches = [branch_0, branch_1]\n",
    "  else:\n",
    "    raise ValueError('Unknown Inception-ResNet block type. '\n",
    "                         'Expects \"block35\", \"block17\" or \"block8\", '\n",
    "                         'but got: ' + str(block_type))\n",
    "  channel_axis = 1 if K.image_data_format() == 'channels_first' else 4\n",
    "  mixed = Concatenate(axis=channel_axis, name=block_name + '_mixed')(branches)\n",
    "  up = conv2d_bn_td(mixed,\n",
    "                    K.int_shape(x)[channel_axis],\n",
    "                    1,\n",
    "                    activation=None,\n",
    "                    use_bias=True,\n",
    "                    name=block_name + '_conv')\n",
    "  x = Lambda(lambda inputs, scale: inputs[0] + inputs[1] * scale,\n",
    "             output_shape=K.int_shape(x)[1:],\n",
    "             arguments={'scale': scale},\n",
    "             name=block_name)([x, up])\n",
    "  if activation is not None:\n",
    "    x = Activation(activation, name=block_name + '_ac')(x)\n",
    "  return x\n",
    "\n",
    "def nn_base(input_tensor=None, trainable=False):\n",
    "  input_shape = (None, None, 3)\n",
    "  if input_tensor is None:\n",
    "    img_input = Input(shape=input_shape)\n",
    "  else:\n",
    "    if not K.is_keras_tensor(input_tensor):\n",
    "      img_input = Input(tensor=input_tensor, shape=input_shape)\n",
    "    else:\n",
    "      img_input = input_tensor\n",
    "  bn_axis = 3\n",
    "  x = conv2d_bn(img_input, 32, 3, strides=2, padding='valid', name='Stem_block' + '_conv1')\n",
    "  x = conv2d_bn(x, 32, 3, padding='valid', name='Stem_block' + '_conv2')\n",
    "  x = conv2d_bn(x, 64, 3, name='Stem_block' + '_conv3')\n",
    "  x = MaxPooling2D(3, strides=2)(x)\n",
    "  x = conv2d_bn(x, 80, 1, padding='valid', name='Stem_block' + '_conv4')\n",
    "  x = conv2d_bn(x, 192, 3, padding='valid', name='Stem_block' + '_conv5')\n",
    "  x = MaxPooling2D(3, strides=2)(x)\n",
    "\n",
    "  branch_0 = conv2d_bn(x, 96, 1, name='Inception_A_block' + '_conv1')\n",
    "  branch_1 = conv2d_bn(x, 48, 1, name='Inception_A_block' + '_conv2')\n",
    "  branch_1 = conv2d_bn(branch_1, 64, 5, name='Inception_A_block' + '_conv3')\n",
    "  branch_2 = conv2d_bn(x, 64, 1, name='Inception_A_block' + '_conv4')\n",
    "  branch_2 = conv2d_bn(branch_2, 96, 3, name='Inception_A_block' + '_conv5')\n",
    "  branch_2 = conv2d_bn(branch_2, 96, 3, name='Inception_A_block' + '_conv6')\n",
    "  branch_pool = AveragePooling2D(3, strides=1, padding='same')(x)\n",
    "  branch_pool = conv2d_bn(branch_pool, 64, 1, name='Inception_A_block' + '_conv7')\n",
    "  branches = [branch_0, branch_1, branch_2, branch_pool]\n",
    "  channel_axis = 1 if K.image_data_format() == 'channels_first' else 3\n",
    "  x = Concatenate(axis=channel_axis, name='mixed_5b')(branches)\n",
    "  for block_idx in range(1, 11):\n",
    "    x = inception_resnet_block(x,\n",
    "                               scale=0.17,\n",
    "                               block_type='block35',\n",
    "                               block_idx=block_idx)\n",
    "  branch_0 = conv2d_bn(x, 384, 3, strides=2, padding='valid', name='Reduction_A_block' + '_conv1')\n",
    "  branch_1 = conv2d_bn(x, 256, 1, name='Reduction_A_block' + '_conv2')\n",
    "  branch_1 = conv2d_bn(branch_1, 256, 3, name='Reduction_A_block' + '_conv3')\n",
    "  branch_1 = conv2d_bn(branch_1, 384, 3, strides=2, padding='valid', name='Reduction_A_block' + '_conv4')\n",
    "  branch_pool = MaxPooling2D(3, strides=2, padding='valid')(x)\n",
    "  branches = [branch_0, branch_1, branch_pool]\n",
    "  x = Concatenate(axis=channel_axis, name='mixed_6a')(branches)\n",
    "  for block_idx in range(1, 21):\n",
    "    x = inception_resnet_block(x,\n",
    "                               scale=0.1,\n",
    "                               block_type='block17',\n",
    "                               block_idx=block_idx)\n",
    "  return x\n",
    "\n",
    "def classifier_layers(x, input_shape, trainable=False):\n",
    "  channel_axis = 1 if K.image_data_format() == 'channels_first' else 4\n",
    "  branch_0 = conv2d_bn_td(x, 256, 1, name='Reduction_B_block' + '_conv1')\n",
    "  branch_0 = conv2d_bn_td(branch_0, 384, 3, strides=2, padding='valid', name='Reduction_B_block' + '_conv2')\n",
    "  branch_1 = conv2d_bn_td(x, 256, 1, name='Reduction_B_block' + '_conv3')\n",
    "  branch_1 = conv2d_bn_td(branch_1, 288, 3, strides=2, padding='valid', name='Reduction_B_block' + '_conv4')\n",
    "  branch_2 = conv2d_bn_td(x, 256, 1, name='Reduction_B_block' + '_conv5')\n",
    "  branch_2 = conv2d_bn_td(branch_2, 288, 3, name='Reduction_B_block' + '_conv6')\n",
    "  branch_2 = conv2d_bn_td(branch_2, 320, 3, strides=2, padding='valid', name='Reduction_B_block' + '_conv7')\n",
    "  branch_pool = TimeDistributed(MaxPooling2D(3, strides=2, padding='valid'))(x)\n",
    "  branches = [branch_0, branch_1, branch_2, branch_pool]\n",
    "  x = Concatenate(axis=channel_axis, name='mixed_7a')(branches)\n",
    "  for block_idx in range(1, 10):\n",
    "    x = inception_resnet_block_td(x,\n",
    "                                  scale=0.2,\n",
    "                                  block_type='block8',\n",
    "                                  block_idx=block_idx)\n",
    "  x = inception_resnet_block_td(x,\n",
    "                                  scale=1.,\n",
    "                                  activation=None,\n",
    "                                  block_type='block8',\n",
    "                                  block_idx=10)\n",
    "  x = conv2d_bn_td(x, 1536, 1, name='conv_7b')\n",
    "  TimeDistributed(GlobalAveragePooling2D(), name='avg_pool')(x)\n",
    "  return x\n",
    "\n",
    "def rpn(base_layers, num_anchors):\n",
    "  x = Conv2D(512, (3, 3), padding='same', activation='relu', kernel_initializer='normal', name='rpn_conv1')(base_layers)\n",
    "  x_class = Conv2D(num_anchors, (1, 1), activation='sigmoid', kernel_initializer='uniform', name='rpn_out_class')(x)\n",
    "  x_regr = Conv2D(num_anchors * 4, (1, 1), activation='linear', kernel_initializer='zero', name='rpn_out_regress')(x)\n",
    "  return [x_class, x_regr, base_layers]\n",
    "\n",
    "def classifier(base_layers, input_rois, num_rois, nb_classes=2, trainable=False):\n",
    "  pooling_regions = 7\n",
    "  input_shape = (num_rois, 7, 7, 1088)\n",
    "  out_roi_pool = RoiPoolingConv(pooling_regions, num_rois)([base_layers, input_rois])\n",
    "  out = classifier_layers(out_roi_pool, input_shape=input_shape, trainable=True)\n",
    "  out = TimeDistributed(Flatten())(out)\n",
    "  out_class = TimeDistributed(Dense(nb_classes, activation='softmax', kernel_initializer='zero'), name='dense_class_{}'.format(nb_classes))(out)\n",
    "  out_regr = TimeDistributed(Dense(4 * (nb_classes-1), activation='linear', kernel_initializer='zero'), name='dense_regress_{}'.format(nb_classes))(out)\n",
    "  return [out_class, out_regr]"
   ]
  },
  {
   "cell_type": "code",
   "execution_count": 142,
   "metadata": {
    "id": "jdkczY-3BbtK"
   },
   "outputs": [],
   "source": [
    "def union(au, bu, area_intersection):\n",
    "  area_a = (au[2] - au[0]) * (au[3] - au[1])\n",
    "  area_b = (bu[2] - bu[0]) * (bu[3] - bu[1])\n",
    "  area_union = area_a + area_b - area_intersection\n",
    "  return area_union\n",
    "\n",
    "def intersection(ai, bi):\n",
    "  x = max(ai[0], bi[0])\n",
    "  y = max(ai[1], bi[1])\n",
    "  w = min(ai[2], bi[2]) - x\n",
    "  h = min(ai[3], bi[3]) - y\n",
    "  if w < 0 or h < 0:\n",
    "    return 0\n",
    "  return w*h\n",
    "\n",
    "def iou(a, b):\n",
    "  # a and b should be (x1,y1,x2,y2)\n",
    "  if a[0] >= a[2] or a[1] >= a[3] or b[0] >= b[2] or b[1] >= b[3]:\n",
    "    return 0.0\n",
    "  area_i = intersection(a, b)\n",
    "  area_u = union(a, b, area_i)\n",
    "  return float(area_i) / float(area_u + 1e-6)\n",
    "\n",
    "def get_new_img_size(width, height, img_min_size=300):\n",
    "  if width <= height:\n",
    "    f = float(img_min_size) / width\n",
    "    resized_height = int(f * height)\n",
    "    resized_width = int(img_min_size)\n",
    "  else:\n",
    "    f = float(img_min_size) / height\n",
    "    resized_width = int(f * width)\n",
    "    resized_height = int(img_min_size)\n",
    "\n",
    "  return resized_width, resized_height"
   ]
  },
  {
   "cell_type": "code",
   "execution_count": 143,
   "metadata": {
    "id": "mLJcRNYSB_xX"
   },
   "outputs": [],
   "source": [
    "def calc_rpn(C, img_data, width, height, resized_width, resized_height, img_length_calc_function):\n",
    "  downscale = float(C.rpn_stride)\n",
    "  anchor_sizes = C.anchor_box_scales\n",
    "  anchor_ratios = C.anchor_box_ratios\n",
    "  num_anchors = len(anchor_sizes) * len(anchor_ratios)\n",
    "  (output_width, output_height) = img_length_calc_function(resized_width, resized_height)\n",
    "  n_anchratios = len(anchor_ratios)\n",
    "  y_rpn_overlap = np.zeros((output_height, output_width, num_anchors))\n",
    "  y_is_box_valid = np.zeros((output_height, output_width, num_anchors))\n",
    "  y_rpn_regr = np.zeros((output_height, output_width, num_anchors * 4))\n",
    "  num_bboxes = len(img_data['bboxes'])\n",
    "  num_anchors_for_bbox = np.zeros(num_bboxes).astype(int)\n",
    "  best_anchor_for_bbox = -1 * np.ones((num_bboxes, 4)).astype(int)\n",
    "  best_iou_for_bbox = np.zeros(num_bboxes).astype(np.float32)\n",
    "  best_x_for_bbox = np.zeros((num_bboxes, 4)).astype(int)\n",
    "  best_dx_for_bbox = np.zeros((num_bboxes, 4)).astype(np.float32)\n",
    "  gta = np.zeros((num_bboxes, 4))\n",
    "  \n",
    "  for bbox_num, bbox in enumerate(img_data['bboxes']):\n",
    "    gta[bbox_num, 0] = bbox['x1'] * (resized_width / float(width))\n",
    "    gta[bbox_num, 1] = bbox['x2'] * (resized_width / float(width))\n",
    "    gta[bbox_num, 2] = bbox['y1'] * (resized_height / float(height))\n",
    "    gta[bbox_num, 3] = bbox['y2'] * (resized_height / float(height))\n",
    "  \n",
    "  for anchor_size_idx in range(len(anchor_sizes)):\n",
    "    for anchor_ratio_idx in range(n_anchratios):\n",
    "      anchor_x = anchor_sizes[anchor_size_idx] * anchor_ratios[anchor_ratio_idx][0]\n",
    "      anchor_y = anchor_sizes[anchor_size_idx] * anchor_ratios[anchor_ratio_idx][1]\n",
    "      for ix in range(output_width):\n",
    "        x1_anc = downscale * (ix + 0.5) - anchor_x / 2\n",
    "        x2_anc = downscale * (ix + 0.5) + anchor_x / 2\n",
    "        if x1_anc < 0 or x2_anc > resized_width:\n",
    "          continue\n",
    "        for jy in range(output_height):\n",
    "          y1_anc = downscale * (jy + 0.5) - anchor_y / 2\n",
    "          y2_anc = downscale * (jy + 0.5) + anchor_y / 2\n",
    "          if y1_anc < 0 or y2_anc > resized_height:\n",
    "            continue\n",
    "          bbox_type = 'neg'\n",
    "          best_iou_for_loc = 0.0\n",
    "          for bbox_num in range(num_bboxes):\n",
    "            curr_iou = iou([gta[bbox_num, 0], gta[bbox_num, 2], gta[bbox_num, 1], gta[bbox_num, 3]], [x1_anc, y1_anc, x2_anc, y2_anc])\n",
    "            if curr_iou > best_iou_for_bbox[bbox_num] or curr_iou > C.rpn_max_overlap:\n",
    "              cx = (gta[bbox_num, 0] + gta[bbox_num, 1]) / 2.0\n",
    "              cy = (gta[bbox_num, 2] + gta[bbox_num, 3]) / 2.0\n",
    "              cxa = (x1_anc + x2_anc)/2.0\n",
    "              cya = (y1_anc + y2_anc)/2.0\n",
    "              tx = (cx - cxa) / (x2_anc - x1_anc)\n",
    "              ty = (cy - cya) / (y2_anc - y1_anc)\n",
    "              tw = np.log((gta[bbox_num, 1] - gta[bbox_num, 0]) / (x2_anc - x1_anc))\n",
    "              th = np.log((gta[bbox_num, 3] - gta[bbox_num, 2]) / (y2_anc - y1_anc))\n",
    "            if img_data['bboxes'][bbox_num]['class'] != 'bg':\n",
    "              if curr_iou > best_iou_for_bbox[bbox_num]:\n",
    "                best_anchor_for_bbox[bbox_num] = [jy, ix, anchor_ratio_idx, anchor_size_idx]\n",
    "                best_iou_for_bbox[bbox_num] = curr_iou\n",
    "                best_x_for_bbox[bbox_num,:] = [x1_anc, x2_anc, y1_anc, y2_anc]\n",
    "                best_dx_for_bbox[bbox_num,:] = [tx, ty, tw, th]\n",
    "              if curr_iou > C.rpn_max_overlap:\n",
    "                bbox_type = 'pos'\n",
    "                num_anchors_for_bbox[bbox_num] += 1\n",
    "                if curr_iou > best_iou_for_loc:\n",
    "                  best_iou_for_loc = curr_iou\n",
    "                  best_regr = (tx, ty, tw, th)\n",
    "              if C.rpn_min_overlap < curr_iou < C.rpn_max_overlap:\n",
    "                if bbox_type != 'pos':\n",
    "                  bbox_type = 'neutral'\n",
    "          if bbox_type == 'neg':\n",
    "            y_is_box_valid[jy, ix, anchor_ratio_idx + n_anchratios * anchor_size_idx] = 1\n",
    "            y_rpn_overlap[jy, ix, anchor_ratio_idx + n_anchratios * anchor_size_idx] = 0\n",
    "          elif bbox_type == 'neutral':\n",
    "            y_is_box_valid[jy, ix, anchor_ratio_idx + n_anchratios * anchor_size_idx] = 0\n",
    "            y_rpn_overlap[jy, ix, anchor_ratio_idx + n_anchratios * anchor_size_idx] = 0\n",
    "          elif bbox_type == 'pos':\n",
    "            y_is_box_valid[jy, ix, anchor_ratio_idx + n_anchratios * anchor_size_idx] = 1\n",
    "            y_rpn_overlap[jy, ix, anchor_ratio_idx + n_anchratios * anchor_size_idx] = 1\n",
    "            start = 4 * (anchor_ratio_idx + n_anchratios * anchor_size_idx)\n",
    "            y_rpn_regr[jy, ix, start:start+4] = best_regr\n",
    "  for idx in range(num_anchors_for_bbox.shape[0]):\n",
    "    if num_anchors_for_bbox[idx] == 0:\n",
    "      if best_anchor_for_bbox[idx, 0] == -1:\n",
    "        continue\n",
    "      y_is_box_valid[\n",
    "                     best_anchor_for_bbox[idx,0], best_anchor_for_bbox[idx,1], best_anchor_for_bbox[idx,2] + n_anchratios *\n",
    "                     best_anchor_for_bbox[idx,3]] = 1\n",
    "      y_rpn_overlap[\n",
    "                    best_anchor_for_bbox[idx,0], best_anchor_for_bbox[idx,1], best_anchor_for_bbox[idx,2] + n_anchratios *\n",
    "                    best_anchor_for_bbox[idx,3]] = 1\n",
    "      start = 4 * (best_anchor_for_bbox[idx,2] + n_anchratios * best_anchor_for_bbox[idx,3])\n",
    "      y_rpn_regr[best_anchor_for_bbox[idx,0], best_anchor_for_bbox[idx,1], start:start+4] = best_dx_for_bbox[idx, :]\n",
    "  \n",
    "  y_rpn_overlap = np.transpose(y_rpn_overlap, (2, 0, 1))\n",
    "  y_rpn_overlap = np.expand_dims(y_rpn_overlap, axis=0)\n",
    "  y_is_box_valid = np.transpose(y_is_box_valid, (2, 0, 1))\n",
    "  y_is_box_valid = np.expand_dims(y_is_box_valid, axis=0)\n",
    "  y_rpn_regr = np.transpose(y_rpn_regr, (2, 0, 1))\n",
    "  y_rpn_regr = np.expand_dims(y_rpn_regr, axis=0)\n",
    "  pos_locs = np.where(np.logical_and(y_rpn_overlap[0, :, :, :] == 1, y_is_box_valid[0, :, :, :] == 1))\n",
    "  neg_locs = np.where(np.logical_and(y_rpn_overlap[0, :, :, :] == 0, y_is_box_valid[0, :, :, :] == 1))\n",
    "  num_pos = len(pos_locs[0])\n",
    "  num_regions = 256\n",
    "  if len(pos_locs[0]) > num_regions/2:\n",
    "    val_locs = random.sample(range(len(pos_locs[0])), len(pos_locs[0]) - num_regions/2)\n",
    "    y_is_box_valid[0, pos_locs[0][val_locs], pos_locs[1][val_locs], pos_locs[2][val_locs]] = 0\n",
    "    num_pos = num_regions/2\n",
    "  if len(neg_locs[0]) + num_pos > num_regions:\n",
    "    val_locs = random.sample(range(len(neg_locs[0])), len(neg_locs[0]) - num_pos)\n",
    "    y_is_box_valid[0, neg_locs[0][val_locs], neg_locs[1][val_locs], neg_locs[2][val_locs]] = 0\n",
    "  \n",
    "  y_rpn_cls = np.concatenate([y_is_box_valid, y_rpn_overlap], axis=1)\n",
    "  y_rpn_regr = np.concatenate([np.repeat(y_rpn_overlap, 4, axis=1), y_rpn_regr], axis=1)\n",
    "\n",
    "  return np.copy(y_rpn_cls), np.copy(y_rpn_regr)"
   ]
  },
  {
   "cell_type": "code",
   "execution_count": 144,
   "metadata": {
    "id": "VrF7W_k6EEKm"
   },
   "outputs": [],
   "source": [
    "def augment(img_data, config, augment=True):\n",
    "  assert 'filepath' in img_data\n",
    "  assert 'bboxes' in img_data\n",
    "  assert 'width' in img_data\n",
    "  assert 'height' in img_data\n",
    "  img_data_aug = copy.deepcopy(img_data)\n",
    "  img = cv2.imread(img_data_aug['filepath'])\n",
    "  if augment:\n",
    "    rows, cols = img.shape[:2]\n",
    "    if config.use_horizontal_flips and np.random.randint(0, 2) == 0:\n",
    "      img = cv2.flip(img, 1)\n",
    "      for bbox in img_data_aug['bboxes']:\n",
    "          x1 = bbox['x1']\n",
    "          x2 = bbox['x2']\n",
    "          bbox['x2'] = cols - x1\n",
    "          bbox['x1'] = cols - x2\n",
    "    if config.rot_90:\n",
    "      angle = np.random.choice([0,90,180,270],1)[0]\n",
    "      if angle == 270:\n",
    "        img = np.transpose(img, (1,0,2))\n",
    "        img = cv2.flip(img, 0)\n",
    "      elif angle == 180:\n",
    "        img = cv2.flip(img, -1)\n",
    "      elif angle == 90:\n",
    "        img = np.transpose(img, (1,0,2))\n",
    "        img = cv2.flip(img, 1)\n",
    "      elif angle == 0:\n",
    "        pass\n",
    "      for bbox in img_data_aug['bboxes']:\n",
    "        x1 = bbox['x1']\n",
    "        x2 = bbox['x2']\n",
    "        y1 = bbox['y1']\n",
    "        y2 = bbox['y2']\n",
    "        if angle == 270:\n",
    "          bbox['x1'] = y1\n",
    "          bbox['x2'] = y2\n",
    "          bbox['y1'] = cols - x2\n",
    "          bbox['y2'] = cols - x1\n",
    "        elif angle == 180:\n",
    "          bbox['x2'] = cols - x1\n",
    "          bbox['x1'] = cols - x2\n",
    "          bbox['y2'] = rows - y1\n",
    "          bbox['y1'] = rows - y2\n",
    "        elif angle == 90:\n",
    "          bbox['x1'] = rows - y2\n",
    "          bbox['x2'] = rows - y1\n",
    "          bbox['y1'] = x1\n",
    "          bbox['y2'] = x2\n",
    "        elif angle == 0:\n",
    "          pass\n",
    "  img_data_aug['width'] = img.shape[1]\n",
    "  img_data_aug['height'] = img.shape[0]\n",
    "  return img_data_aug, img"
   ]
  },
  {
   "cell_type": "code",
   "execution_count": 145,
   "metadata": {
    "id": "3ErSCLAGD-Kq"
   },
   "outputs": [],
   "source": [
    "def get_anchor_gt(all_img_data, class_count, C, img_length_calc_function, backend, mode='train'):\n",
    "  while True:\n",
    "    if mode == 'train':\n",
    "      random.shuffle(all_img_data)\n",
    "    for img_data in all_img_data:\n",
    "      if mode == 'train':\n",
    "        img_data_aug, x_img = augment(img_data, C, augment=False)\n",
    "      else:\n",
    "        img_data_aug, x_img = augment(img_data, C, augment=True)\n",
    "      (width, height) = (img_data_aug['width'], img_data_aug['height'])\n",
    "      (rows, cols, _) = x_img.shape\n",
    "      assert cols == width\n",
    "      assert rows == height\n",
    "      (resized_width, resized_height) = get_new_img_size(width, height, C.im_size)\n",
    "      x_img = cv2.resize(x_img, (resized_width, resized_height), interpolation=cv2.INTER_CUBIC)\n",
    "      try:\n",
    "        y_rpn_cls, y_rpn_regr = calc_rpn(C, img_data_aug, width, height, resized_width, resized_height, img_length_calc_function)\n",
    "      except:\n",
    "        continue\n",
    "      x_img = x_img[:, :, (2, 1, 0)]\n",
    "      x_img = x_img.astype(np.float32)\n",
    "      x_img[:, :, 0] -= C.img_channel_mean[0]\n",
    "      x_img[:, :, 1] -= C.img_channel_mean[1]\n",
    "      x_img[:, :, 2] -= C.img_channel_mean[2]\n",
    "      x_img /= C.img_scaling_factor\n",
    "      x_img = np.transpose(x_img, (2, 0, 1))\n",
    "      x_img = np.expand_dims(x_img, axis=0)\n",
    "      y_rpn_regr[:, y_rpn_regr.shape[1]//2:, :, :] *= C.std_scaling\n",
    "      x_img = np.transpose(x_img, (0, 2, 3, 1))\n",
    "      y_rpn_cls = np.transpose(y_rpn_cls, (0, 2, 3, 1))\n",
    "      y_rpn_regr = np.transpose(y_rpn_regr, (0, 2, 3, 1))\n",
    "      yield np.copy(x_img), [np.copy(y_rpn_cls), np.copy(y_rpn_regr)], img_data_aug"
   ]
  },
  {
   "cell_type": "code",
   "execution_count": 146,
   "metadata": {
    "id": "lz5jmajQEMcF"
   },
   "outputs": [],
   "source": [
    "lambda_rpn_regr = 1.0\n",
    "lambda_rpn_class = 1.0\n",
    "lambda_cls_regr = 1.0\n",
    "lambda_cls_class = 1.0\n",
    "epsilon = 1e-4"
   ]
  },
  {
   "cell_type": "code",
   "execution_count": 147,
   "metadata": {
    "id": "piWeYHTyed80"
   },
   "outputs": [],
   "source": [
    "def rpn_loss_regr(num_anchors):\n",
    "  def rpn_loss_regr_fixed_num(y_true, y_pred):\n",
    "    x = y_true[:, :, :, 4 * num_anchors:] - y_pred\n",
    "    x_abs = K.abs(x)\n",
    "    x_bool = K.cast(K.less_equal(x_abs, 1.0), tf.float32)\n",
    "    return lambda_rpn_regr * K.sum(\n",
    "        y_true[:, :, :, :4 * num_anchors] * (x_bool * (0.5 * x * x) + (1 - x_bool) * (x_abs - 0.5))) / K.sum(epsilon + y_true[:, :, :, :4 * num_anchors])\n",
    "  return rpn_loss_regr_fixed_num\n"
   ]
  },
  {
   "cell_type": "code",
   "execution_count": 148,
   "metadata": {
    "id": "fu12MNaHfPi0"
   },
   "outputs": [],
   "source": [
    "def rpn_loss_cls(num_anchors):\n",
    "  def rpn_loss_cls_fixed_num(y_true, y_pred):\n",
    "    return lambda_rpn_class * K.sum(y_true[:, :, :, :num_anchors] * K.binary_crossentropy(y_pred[:, :, :, :], y_true[:, :, :, num_anchors:])) / K.sum(epsilon + y_true[:, :, :, :num_anchors])\n",
    "  return rpn_loss_cls_fixed_num"
   ]
  },
  {
   "cell_type": "code",
   "execution_count": 149,
   "metadata": {
    "id": "d200wu11fcsO"
   },
   "outputs": [],
   "source": [
    "def class_loss_regr(num_classes):\n",
    "  def class_loss_regr_fixed_num(y_true, y_pred):\n",
    "    x = y_true[:, :, 4*num_classes:] - y_pred\n",
    "    x_abs = K.abs(x)\n",
    "    x_bool = K.cast(K.less_equal(x_abs, 1.0), 'float32')\n",
    "    return lambda_cls_regr * K.sum(y_true[:, :, :4*num_classes] * (x_bool * (0.5 * x * x) + (1 - x_bool) * (x_abs - 0.5))) / K.sum(epsilon + y_true[:, :, :4*num_classes])\n",
    "  return class_loss_regr_fixed_num"
   ]
  },
  {
   "cell_type": "code",
   "execution_count": 150,
   "metadata": {
    "id": "NFxr0bcDfoAW"
   },
   "outputs": [],
   "source": [
    "def class_loss_cls(y_true, y_pred):\n",
    "  return lambda_cls_class * K.mean(categorical_crossentropy(y_true[0, :, :], y_pred[0, :, :]))"
   ]
  },
  {
   "cell_type": "code",
   "execution_count": 151,
   "metadata": {
    "id": "LCOukFmRfrrf"
   },
   "outputs": [],
   "source": [
    "def calc_iou(R, img_data, C, class_mapping):\n",
    "  bboxes = img_data['bboxes']\n",
    "  (width, height) = (img_data['width'], img_data['height'])\n",
    "  # get image dimensions for resizing\n",
    "  (resized_width, resized_height) = get_new_img_size(width, height, C.im_size)\n",
    "  gta = np.zeros((len(bboxes), 4))\n",
    "\n",
    "  for bbox_num, bbox in enumerate(bboxes):\n",
    "    # get the GT box coordinates, and resize to account for image resizing\n",
    "    gta[bbox_num, 0] = int(round(bbox['x1'] * (resized_width / float(width))/C.rpn_stride))\n",
    "    gta[bbox_num, 1] = int(round(bbox['x2'] * (resized_width / float(width))/C.rpn_stride))\n",
    "    gta[bbox_num, 2] = int(round(bbox['y1'] * (resized_height / float(height))/C.rpn_stride))\n",
    "    gta[bbox_num, 3] = int(round(bbox['y2'] * (resized_height / float(height))/C.rpn_stride))\n",
    "  x_roi = []\n",
    "  y_class_num = []\n",
    "  y_class_regr_coords = []\n",
    "  y_class_regr_label = []\n",
    "  IoUs = [] # for debugging only\n",
    "  for ix in range(R.shape[0]):\n",
    "    (x1, y1, x2, y2) = R[ix, :]\n",
    "    x1 = int(round(x1))\n",
    "    y1 = int(round(y1))\n",
    "    x2 = int(round(x2))\n",
    "    y2 = int(round(y2))\n",
    "    best_iou = 0.0\n",
    "    best_bbox = -1\n",
    "    for bbox_num in range(len(bboxes)):\n",
    "      curr_iou = iou([gta[bbox_num, 0], gta[bbox_num, 2], gta[bbox_num, 1], gta[bbox_num, 3]], [x1, y1, x2, y2])\n",
    "      if curr_iou > best_iou:\n",
    "        best_iou = curr_iou\n",
    "        best_bbox = bbox_num\n",
    "    if best_iou < C.classifier_min_overlap:\n",
    "      continue\n",
    "    else:\n",
    "      w = x2 - x1\n",
    "      h = y2 - y1\n",
    "      x_roi.append([x1, y1, w, h])\n",
    "      IoUs.append(best_iou)\n",
    "      if C.classifier_min_overlap <= best_iou < C.classifier_max_overlap:\n",
    "        # hard negative example\n",
    "        cls_name = 'bg'\n",
    "      elif C.classifier_max_overlap <= best_iou:\n",
    "        cls_name = bboxes[best_bbox]['class']\n",
    "        cxg = (gta[best_bbox, 0] + gta[best_bbox, 1]) / 2.0\n",
    "        cyg = (gta[best_bbox, 2] + gta[best_bbox, 3]) / 2.0\n",
    "        cx = x1 + w / 2.0\n",
    "        cy = y1 + h / 2.0\n",
    "        tx = (cxg - cx) / float(w)\n",
    "        ty = (cyg - cy) / float(h)\n",
    "        tw = np.log((gta[best_bbox, 1] - gta[best_bbox, 0]) / float(w))\n",
    "        th = np.log((gta[best_bbox, 3] - gta[best_bbox, 2]) / float(h))\n",
    "      else:\n",
    "        print('roi = {}'.format(best_iou))\n",
    "        raise RuntimeError\n",
    "    class_num = class_mapping[cls_name]\n",
    "    class_label = len(class_mapping) * [0]\n",
    "    class_label[class_num] = 1\n",
    "    y_class_num.append(copy.deepcopy(class_label))\n",
    "    coords = [0] * 4 * (len(class_mapping) - 1)\n",
    "    labels = [0] * 4 * (len(class_mapping) - 1)\n",
    "    if cls_name != 'bg':\n",
    "      label_pos = 4 * class_num\n",
    "      sx, sy, sw, sh = C.classifier_regr_std\n",
    "      coords[label_pos:4+label_pos] = [sx*tx, sy*ty, sw*tw, sh*th]\n",
    "      labels[label_pos:4+label_pos] = [1, 1, 1, 1]\n",
    "      y_class_regr_coords.append(copy.deepcopy(coords))\n",
    "      y_class_regr_label.append(copy.deepcopy(labels))\n",
    "    else:\n",
    "      y_class_regr_coords.append(copy.deepcopy(coords))\n",
    "      y_class_regr_label.append(copy.deepcopy(labels))\n",
    "\n",
    "  if len(x_roi) == 0:\n",
    "    return None, None, None, None \n",
    "  X = np.array(x_roi,dtype = np.float32)\n",
    "  Y1 = np.array(y_class_num,dtype = np.float32)\n",
    "  Y2 = np.concatenate([np.array(y_class_regr_label, dtype = np.float32),np.array(y_class_regr_coords, np.float32)],axis=1)\n",
    "\n",
    "  return np.expand_dims(X, axis=0), np.expand_dims(Y1, axis=0), np.expand_dims(Y2, axis=0), IoUs\n",
    "\n",
    "\n",
    "def apply_regr(x, y, w, h, tx, ty, tw, th):\n",
    "  try:\n",
    "    cx = x + w/2.\n",
    "    cy = y + h/2.\n",
    "    cx1 = tx * w + cx\n",
    "    cy1 = ty * h + cy\n",
    "    w1 = math.exp(tw) * w\n",
    "    h1 = math.exp(th) * h\n",
    "    x1 = cx1 - w1/2.\n",
    "    y1 = cy1 - h1/2.\n",
    "    x1 = round(x1)\n",
    "    y1 = round(y1)\n",
    "    w1 = round(w1)\n",
    "    h1 = round(h1)\n",
    "    return x1, y1, w1, h1\n",
    "  except ValueError:\n",
    "    return x, y, w, h\n",
    "  except OverflowError:\n",
    "    return x, y, w, h\n",
    "  except Exception as e:\n",
    "    print(e)\n",
    "    return x, y, w, h\n",
    "\n",
    "def apply_regr_np(X, T):\n",
    "  try:\n",
    "    x = X[0, :, :]\n",
    "    y = X[1, :, :]\n",
    "    w = X[2, :, :]\n",
    "    h = X[3, :, :]\n",
    "\n",
    "    tx = T[0, :, :]\n",
    "    ty = T[1, :, :]\n",
    "    tw = T[2, :, :]\n",
    "    th = T[3, :, :]\n",
    "\n",
    "    cx = x + w/2.\n",
    "    cy = y + h/2.\n",
    "    cx1 = tx * w + cx\n",
    "    cy1 = ty * h + cy\n",
    "\n",
    "    w1 = np.exp(tw.astype(np.float64)) * w\n",
    "    h1 = np.exp(th.astype(np.float64)) * h\n",
    "    x1 = cx1 - w1/2.\n",
    "    y1 = cy1 - h1/2.\n",
    "\n",
    "    x1 = np.round(x1)\n",
    "    y1 = np.round(y1)\n",
    "    w1 = np.round(w1)\n",
    "    h1 = np.round(h1)\n",
    "    return np.stack([x1, y1, w1, h1])\n",
    "  except Exception as e:\n",
    "    print(e)\n",
    "    return X\n",
    "\n",
    "def non_max_suppression_fast(boxes, probs, overlap_thresh=0.9, max_boxes=300):\n",
    "# code used from here: http://www.pyimagesearch.com/2015/02/16/faster-non-maximum-suppression-python/\n",
    "# if there are no boxes, return an empty list\n",
    "  if len(boxes) == 0:\n",
    "    return []\n",
    "\n",
    "# grab the coordinates of the bounding boxes\n",
    "  x1 = boxes[:, 0]\n",
    "  y1 = boxes[:, 1]\n",
    "  x2 = boxes[:, 2]\n",
    "  y2 = boxes[:, 3]\n",
    "\n",
    "  np.testing.assert_array_less(x1, x2)\n",
    "  np.testing.assert_array_less(y1, y2)\n",
    "\n",
    "  # if the bounding boxes integers, convert them to floats --\n",
    "  # this is important since we'll be doing a bunch of divisions\n",
    "  if boxes.dtype.kind == \"i\":\n",
    "    boxes = boxes.astype(\"float\")\n",
    "\n",
    "  # initialize the list of picked indexes\n",
    "  pick = []\n",
    "\n",
    "  # calculate the areas\n",
    "  area = (x2 - x1) * (y2 - y1)\n",
    "\n",
    "  # sort the bounding boxes\n",
    "  idxs = np.argsort(probs)\n",
    "\n",
    "# keep looping while some indexes still remain in the indexes\n",
    "# list\n",
    "  while len(idxs) > 0:\n",
    "    # grab the last index in the indexes list and add the\n",
    "    # index value to the list of picked indexes\n",
    "    last = len(idxs) - 1\n",
    "    i = idxs[last]\n",
    "    pick.append(i)\n",
    "\n",
    "    # find the intersection\n",
    "\n",
    "    xx1_int = np.maximum(x1[i], x1[idxs[:last]])\n",
    "    yy1_int = np.maximum(y1[i], y1[idxs[:last]])\n",
    "    xx2_int = np.minimum(x2[i], x2[idxs[:last]])\n",
    "    yy2_int = np.minimum(y2[i], y2[idxs[:last]])\n",
    "\n",
    "    ww_int = np.maximum(0, xx2_int - xx1_int)\n",
    "    hh_int = np.maximum(0, yy2_int - yy1_int)\n",
    "\n",
    "    area_int = ww_int * hh_int\n",
    "\n",
    "    # find the union\n",
    "    area_union = area[i] + area[idxs[:last]] - area_int\n",
    "\n",
    "    # compute the ratio of overlap\n",
    "    overlap = area_int/(area_union + 1e-6)\n",
    "\n",
    "    # delete all indexes from the index list that have\n",
    "    idxs = np.delete(idxs, np.concatenate(([last],\n",
    "        np.where(overlap > overlap_thresh)[0])))\n",
    "\n",
    "    if len(pick) >= max_boxes:\n",
    "      break\n",
    "\n",
    "  # return only the bounding boxes that were picked using the integer data type\n",
    "  boxes = boxes[pick].astype(\"int\")\n",
    "  probs = probs[pick]\n",
    "  return boxes, probs\n",
    "\n",
    "\n",
    "def rpn_to_roi(rpn_layer, regr_layer, C, dim_ordering, use_regr=True, max_boxes=300,overlap_thresh=0.9):\n",
    "  regr_layer = regr_layer / C.std_scaling\n",
    "  anchor_sizes = C.anchor_box_scales\n",
    "  anchor_ratios = C.anchor_box_ratios\n",
    "  assert rpn_layer.shape[0] == 1\n",
    "  (rows, cols) = rpn_layer.shape[1:3]\n",
    "  curr_layer = 0\n",
    "  A = np.zeros((4, rpn_layer.shape[1], rpn_layer.shape[2], rpn_layer.shape[3]))\n",
    "  \n",
    "\n",
    "  for anchor_size in anchor_sizes:\n",
    "    for anchor_ratio in anchor_ratios:\n",
    "      anchor_x = (anchor_size * anchor_ratio[0])/C.rpn_stride\n",
    "      anchor_y = (anchor_size * anchor_ratio[1])/C.rpn_stride\n",
    "      regr = regr_layer[0, :, :, 4 * curr_layer:4 * curr_layer + 4]\n",
    "      regr = np.transpose(regr, (2, 0, 1))\n",
    "      X, Y = np.meshgrid(np.arange(cols),np. arange(rows))\n",
    "      A[0, :, :, curr_layer] = X - anchor_x/2\n",
    "      A[1, :, :, curr_layer] = Y - anchor_y/2\n",
    "      A[2, :, :, curr_layer] = anchor_x\n",
    "      A[3, :, :, curr_layer] = anchor_y\n",
    "      if use_regr:\n",
    "        A[:, :, :, curr_layer] = apply_regr_np(A[:, :, :, curr_layer], regr)\n",
    "        A[2, :, :, curr_layer] = np.maximum(1, A[2, :, :, curr_layer])\n",
    "        A[3, :, :, curr_layer] = np.maximum(1, A[3, :, :, curr_layer])\n",
    "        A[2, :, :, curr_layer] += A[0, :, :, curr_layer]\n",
    "        A[3, :, :, curr_layer] += A[1, :, :, curr_layer]\n",
    "        A[0, :, :, curr_layer] = np.maximum(0, A[0, :, :, curr_layer])\n",
    "        A[1, :, :, curr_layer] = np.maximum(0, A[1, :, :, curr_layer])\n",
    "        A[2, :, :, curr_layer] = np.minimum(cols-1, A[2, :, :, curr_layer])\n",
    "        A[3, :, :, curr_layer] = np.minimum(rows-1, A[3, :, :, curr_layer])\n",
    "        curr_layer += 1\n",
    "  all_boxes = np.reshape(A.transpose((0, 3, 1,2)), (4, -1)).transpose((1, 0))\n",
    "  all_probs = rpn_layer.transpose((0, 3, 1, 2)).reshape((-1))\n",
    "  x1 = all_boxes[:, 0]\n",
    "  y1 = all_boxes[:, 1]\n",
    "  x2 = all_boxes[:, 2]\n",
    "  y2 = all_boxes[:, 3]\n",
    "  idxs = np.where((x1 - x2 >= 0) | (y1 - y2 >= 0))\n",
    "  all_boxes = np.delete(all_boxes, idxs, 0)\n",
    "  all_probs = np.delete(all_probs, idxs, 0)\n",
    "  result = non_max_suppression_fast(all_boxes, all_probs, overlap_thresh=overlap_thresh, max_boxes=max_boxes)[0]\n",
    "  return result"
   ]
  },
  {
   "cell_type": "code",
   "execution_count": 152,
   "metadata": {
    "id": "_KMUu_U9_Aj4"
   },
   "outputs": [],
   "source": [
    "def write_log(callback, names, logs, batch_no):\n",
    "  for name, value in zip(names, logs):\n",
    "    summary = tf.summary\n",
    "    summary_value = summary.value.add()\n",
    "    summary_value.simple_value = value\n",
    "    summary_value.tag = name\n",
    "    callback.writer.add_summary(summary, batch_no)\n",
    "    callback.writer.flush()"
   ]
  },
  {
   "cell_type": "code",
   "execution_count": 153,
   "metadata": {
    "id": "h1uO43xFj_zU"
   },
   "outputs": [],
   "source": [
    "base_path = '/content/drive/MyDrive/models/research/object_detection/images'\n",
    "train_path = '/content/drive/MyDrive/models/research/object_detection/images/bbox_train.csv'\n",
    "num_rois = 32\n",
    "horizontal_flips = False\n",
    "vertical_flips = False\n",
    "rot_90 = False\n",
    "\n",
    "output_weight_path = os.path.join(base_path, 'model_frcnn.hdf5')\n",
    "record_path = os.path.join(base_path, 'record.csv')\n",
    "base_weight_path = os.path.join(base_path, 'resnet50_weights_th_dim_ordering_th_kernels_notop.h5')\n",
    "config_output_filename = os.path.join(base_path, 'model_config.pickle')"
   ]
  },
  {
   "cell_type": "code",
   "execution_count": 154,
   "metadata": {
    "id": "rCfvqNa0k_as"
   },
   "outputs": [],
   "source": [
    "C = Config()\n",
    "C.use_horizontal_flips = horizontal_flips\n",
    "C.use_vertical_flips = vertical_flips\n",
    "C.rot_90 = rot_90\n",
    "\n",
    "C.record_path = record_path\n",
    "C.model_path = output_weight_path\n",
    "C.num_rois = num_rois\n",
    "\n",
    "C.base_net_weights = base_weight_path"
   ]
  },
  {
   "cell_type": "code",
   "execution_count": 155,
   "metadata": {
    "colab": {
     "base_uri": "https://localhost:8080/"
    },
    "id": "c4JTeeEGgjYu",
    "outputId": "4346da32-ceed-4c82-ba3c-eaf52274c207"
   },
   "outputs": [
    {
     "name": "stdout",
     "output_type": "stream",
     "text": [
      "\n",
      "Spend 0.51 mins to load the data\n"
     ]
    }
   ],
   "source": [
    "st = time.time()\n",
    "all_imgs, classes_count, class_mapping = get_data(train_path)\n",
    "print()\n",
    "print('Spend %0.2f mins to load the data' % ((time.time()-st)/60) )"
   ]
  },
  {
   "cell_type": "code",
   "execution_count": 156,
   "metadata": {
    "colab": {
     "base_uri": "https://localhost:8080/"
    },
    "id": "FtoDEiKtqegx",
    "outputId": "dcb2662c-1cc2-482a-dd41-b9d9d77f9a3b"
   },
   "outputs": [
    {
     "name": "stdout",
     "output_type": "stream",
     "text": [
      "Training images per class:\n",
      "{'bg': 0, 'face': 17207}\n",
      "Num classes (including bg) = 2\n",
      "Config has been written to /content/drive/MyDrive/models/research/object_detection/images/model_config.pickle, and can be loaded when testing to ensure correct results\n"
     ]
    }
   ],
   "source": [
    "if 'bg' not in classes_count:\n",
    "  classes_count['bg'] = 0\n",
    "  class_mapping['bg'] = len(class_mapping)\n",
    "C.class_mapping = class_mapping\n",
    "inv_map = {v: k for k, v in class_mapping.items()}\n",
    "print('Training images per class:')\n",
    "pprint.pprint(classes_count)\n",
    "print('Num classes (including bg) = {}'.format(len(classes_count)))\n",
    "with open(config_output_filename, 'wb') as config_f:\n",
    "\tpickle.dump(C,config_f)\n",
    "\tprint('Config has been written to {}, and can be loaded when testing to ensure correct results'.format(config_output_filename))"
   ]
  },
  {
   "cell_type": "code",
   "execution_count": 157,
   "metadata": {
    "colab": {
     "base_uri": "https://localhost:8080/"
    },
    "id": "SSBIf6vjqfOW",
    "outputId": "361ad00a-7e1b-471a-a90f-3271488ef1df"
   },
   "outputs": [
    {
     "name": "stdout",
     "output_type": "stream",
     "text": [
      "Num train samples (images) 4014\n"
     ]
    }
   ],
   "source": [
    "random.seed(1)\n",
    "random.shuffle(all_imgs)\n",
    "print('Num train samples (images) {}'.format(len(all_imgs)))"
   ]
  },
  {
   "cell_type": "code",
   "execution_count": 158,
   "metadata": {
    "id": "0-1buAtRrsxg"
   },
   "outputs": [],
   "source": [
    "data_gen_train = get_anchor_gt(all_imgs, classes_count, C, get_img_output_length, K.image_data_format(), mode='train')"
   ]
  },
  {
   "cell_type": "code",
   "execution_count": 159,
   "metadata": {
    "id": "TJjNU_XDsxxR"
   },
   "outputs": [],
   "source": [
    "X, y, image_data = next(data_gen_train)"
   ]
  },
  {
   "cell_type": "code",
   "execution_count": 160,
   "metadata": {
    "colab": {
     "base_uri": "https://localhost:8080/"
    },
    "id": "u4nCU6nWwAzn",
    "outputId": "00ea731a-82a2-420a-d07e-74018bbc0eca"
   },
   "outputs": [
    {
     "name": "stdout",
     "output_type": "stream",
     "text": [
      "Original image: height=408 width=612\n",
      "Resized image:  height=600 width=900 C.im_size=600\n",
      "Feature map size: height=35 width=54 C.rpn_stride=16\n",
      "(1, 600, 900, 3)\n",
      "2 includes 'y_rpn_cls' and 'y_rpn_regr'\n",
      "Shape of y_rpn_cls (1, 35, 54, 18)\n",
      "Shape of y_rpn_regr (1, 35, 54, 72)\n",
      "{'filepath': '16062.jpg', 'width': 612, 'height': 408, 'bboxes': [{'class': 'face', 'x1': 168, 'x2': 306, 'y1': 86, 'y2': 221}, {'class': 'face', 'x1': 331, 'x2': 458, 'y1': 88, 'y2': 228}]}\n"
     ]
    }
   ],
   "source": [
    "print('Original image: height=%d width=%d'%(image_data['height'], image_data['width']))\n",
    "print('Resized image:  height=%d width=%d C.im_size=%d'%(X.shape[1], X.shape[2], C.im_size))\n",
    "print('Feature map size: height=%d width=%d C.rpn_stride=%d'%(y[0].shape[1], y[0].shape[2], C.rpn_stride))\n",
    "print(X.shape)\n",
    "print(str(len(y))+\" includes 'y_rpn_cls' and 'y_rpn_regr'\")\n",
    "print('Shape of y_rpn_cls {}'.format(y[0].shape))\n",
    "print('Shape of y_rpn_regr {}'.format(y[1].shape))\n",
    "print(image_data)"
   ]
  },
  {
   "cell_type": "code",
   "execution_count": 161,
   "metadata": {
    "id": "WEy4vIlvw2mi"
   },
   "outputs": [],
   "source": [
    "input_shape_img = (None, None, 3)\n",
    "img_input = Input(shape = input_shape_img)\n",
    "roi_input = Input(shape = (None, 4))\n",
    "shared_layers = nn_base(img_input, trainable=True)"
   ]
  },
  {
   "cell_type": "code",
   "execution_count": 162,
   "metadata": {
    "id": "AVzdU4HFw-0L"
   },
   "outputs": [],
   "source": [
    "num_anchors = len(C.anchor_box_scales) * len(C.anchor_box_ratios)\n",
    "rpn_ = rpn(shared_layers, num_anchors)\n",
    "classifier_ = classifier(shared_layers, roi_input, C.num_rois, nb_classes=len(classes_count), trainable = True)\n",
    "model_rpn = Model(img_input, rpn_[:2])\n",
    "model_classifier = Model([img_input, roi_input], classifier_)\n",
    "model_all = Model([img_input, roi_input], rpn_[:2] + classifier_)"
   ]
  },
  {
   "cell_type": "code",
   "execution_count": 162,
   "metadata": {
    "id": "hyC4vgNLx56l"
   },
   "outputs": [],
   "source": []
  },
  {
   "cell_type": "code",
   "execution_count": 163,
   "metadata": {
    "colab": {
     "base_uri": "https://localhost:8080/"
    },
    "id": "jeIidiJXyCfl",
    "outputId": "aee11f1b-fc43-48fd-e62f-eb94fdf7536e"
   },
   "outputs": [
    {
     "name": "stdout",
     "output_type": "stream",
     "text": [
      "loading weights from /content/drive/MyDrive/models/research/object_detection/images/resnet50_weights_th_dim_ordering_th_kernels_notop.h5\n"
     ]
    }
   ],
   "source": [
    "try:\n",
    "  print('loading weights from {}'.format(C.base_net_weights))\n",
    "  model_rpn.load_weights(C.base_net_weights, by_name=True)\n",
    "  model_classifier.load_weights(C.base_net_weights, by_name=True)\n",
    "except:\n",
    "  print('Could not load pretrained model weights. Weights can be found in the keras application folder \\\n",
    "        https://github.com/fchollet/keras/tree/master/keras/applications')"
   ]
  },
  {
   "cell_type": "code",
   "execution_count": 164,
   "metadata": {
    "id": "_v1z1DLN6EK5"
   },
   "outputs": [],
   "source": [
    "optimizer = Adam(lr=1e-5)\n",
    "optimizer_classifier = Adam(lr=1e-5)\n",
    "model_rpn.compile(optimizer=optimizer, loss=[rpn_loss_cls(num_anchors), rpn_loss_regr(num_anchors)])\n",
    "model_classifier.compile(optimizer=optimizer_classifier, loss=[class_loss_cls, class_loss_regr(len(classes_count)-1)], metrics={'dense_class_{}'.format(len(classes_count)): 'accuracy'})\n",
    "model_all.compile(optimizer='sgd', loss='mae')"
   ]
  },
  {
   "cell_type": "code",
   "execution_count": 165,
   "metadata": {
    "colab": {
     "base_uri": "https://localhost:8080/"
    },
    "id": "Br_OLWaf6fQ0",
    "outputId": "8375d5b7-90f2-4c44-fb0f-fed42787a02a"
   },
   "outputs": [
    {
     "name": "stdout",
     "output_type": "stream",
     "text": [
      "WARNING:tensorflow:Model failed to serialize as JSON. Ignoring... Layer RoiPoolingConv has arguments in `__init__` and therefore must override `get_config`.\n"
     ]
    }
   ],
   "source": [
    "log_path = '/content/drive/MyDrive/models/research/object_detection/images/logs'\n",
    "if not os.path.isdir(log_path):\n",
    "  os.mkdir(log_path)\n",
    "callback = TensorBoard(log_path)\n",
    "callback.set_model(model_all)"
   ]
  },
  {
   "cell_type": "code",
   "execution_count": 166,
   "metadata": {
    "id": "fWztUvQj60il"
   },
   "outputs": [],
   "source": [
    "epoch_length = 250\n",
    "num_epochs = 15\n",
    "iter_num = 0\n",
    "train_step = 0\n",
    "\n",
    "losses = np.zeros((epoch_length, 5))\n",
    "rpn_accuracy_rpn_monitor = []\n",
    "rpn_accuracy_for_epoch = []\n",
    "start_time = time.time()\n",
    "\n",
    "best_loss = np.Inf\n",
    "\n",
    "class_mapping_inv = {v: k for k, v in class_mapping.items()}"
   ]
  },
  {
   "cell_type": "code",
   "execution_count": 166,
   "metadata": {
    "id": "QhpevQBN80ns"
   },
   "outputs": [],
   "source": []
  },
  {
   "cell_type": "code",
   "execution_count": null,
   "metadata": {
    "id": "jRvM5x1T7K84"
   },
   "outputs": [],
   "source": [
    "print('Starting training')\n",
    "for epoch_num in range(num_epochs):\n",
    "  progbar = generic_utils.Progbar(epoch_length)\n",
    "  print('Epoch {}/{}'.format(epoch_num + 1, num_epochs))\n",
    "  while True:\n",
    "    if len(rpn_accuracy_rpn_monitor) == epoch_length and C.verbose:\n",
    "      mean_overlapping_bboxes = float(sum(rpn_accuracy_rpn_monitor))/len(rpn_accuracy_rpn_monitor)\n",
    "      rpn_accuracy_rpn_monitor = []\n",
    "      print('Average number of overlapping bounding boxes from RPN = {} for {} previous iterations'.format(mean_overlapping_bboxes, epoch_length))\n",
    "      if mean_overlapping_bboxes == 0:\n",
    "        print('RPN is not producing bounding boxes that overlap the ground truth boxes. Check RPN settings or keep training.')\n",
    "    X, Y, img_data = next(data_gen_train)\n",
    "    loss_rpn = model_rpn.train_on_batch(X,Y)\n",
    "    #write_log(callback, ['rpn_cls_loss', 'rpn_reg_loss'], loss_rpn, train_step)\n",
    "    P_rpn = model_rpn.predict_on_batch(X)\n",
    "    R = rpn_to_roi(P_rpn[0], P_rpn[1], C, K.image_data_format(), use_regr=True, overlap_thresh=0.7, max_boxes=300)\n",
    "    X2, Y1, Y2, IouS = calc_iou(R, img_data, C, class_mapping)\n",
    "    if X2 is None:\n",
    "      rpn_accuracy_rpn_monitor.append(0)\n",
    "      rpn_accuracy_for_epoch.append(0)\n",
    "      continue\n",
    "    neg_samples = np.where(Y1[0, :, -1] == 1)\n",
    "    pos_samples = np.where(Y1[0, :, -1] == 0)\n",
    "    if len(neg_samples) > 0:\n",
    "      neg_samples = neg_samples[0]\n",
    "    else:\n",
    "      neg_samples = []\n",
    "\n",
    "    if len(pos_samples) > 0:\n",
    "      pos_samples = pos_samples[0]\n",
    "    else:\n",
    "      pos_samples = []\n",
    "\n",
    "    rpn_accuracy_rpn_monitor.append(len(pos_samples))\n",
    "    rpn_accuracy_for_epoch.append((len(pos_samples)))\n",
    "    if C.num_rois > 1:\n",
    "      if len(pos_samples) < C.num_rois//2:\n",
    "        selected_pos_samples = pos_samples.tolist()\n",
    "      else:\n",
    "        if len(pos_samples) > 0:\n",
    "          selected_pos_samples = np.random.choice(pos_samples, C.num_rois//2, replace=False).tolist()\n",
    "        else:\n",
    "          selected_pos_samples = []\n",
    "      try:\n",
    "        if len(neg_samples) > 0:\n",
    "          selected_neg_samples = np.random.choice(neg_samples, C.num_rois - len(selected_pos_samples), replace=False).tolist()\n",
    "        else:\n",
    "          selected_neg_samples = []\n",
    "      except:\n",
    "        if len(neg_samples) > 0:\n",
    "          selected_neg_samples = np.random.choice(neg_samples, C.num_rois - len(selected_pos_samples), replace=True).tolist()\n",
    "        else:\n",
    "          selected_neg_samples = []\n",
    "      sel_samples = selected_pos_samples + selected_neg_samples\n",
    "    else:\n",
    "      selected_pos_samples = pos_samples.tolist()\n",
    "      selected_neg_samples = neg_samples.tolist()\n",
    "      if np.random.randint(0, 2):\n",
    "        sel_samples = random.choice(neg_samples)\n",
    "      else:\n",
    "        sel_samples = random.choice(pos_samples)\n",
    "    loss_class = model_classifier.train_on_batch([X, X2[:, sel_samples, :]], [Y1[:, sel_samples, :], Y2[:, sel_samples, :]])\n",
    "    #write_log(callback, ['detection_cls_loss', 'detection_reg_loss', 'detection_acc'], loss_class, train_step)\n",
    "    train_step += 1\n",
    "\n",
    "    losses[iter_num, 0] = loss_rpn[1]\n",
    "    losses[iter_num, 1] = loss_rpn[2]\n",
    "    losses[iter_num, 2] = loss_class[1]\n",
    "    losses[iter_num, 3] = loss_class[2]\n",
    "    losses[iter_num, 4] = loss_class[3]\n",
    "    iter_num += 1\n",
    "    progbar.update(iter_num, [('rpn_cls', np.mean(losses[:iter_num, 0])), ('rpn_regr', np.mean(losses[:iter_num, 1])),\n",
    "                              ('detector_cls', np.mean(losses[:iter_num, 2])), ('detector_regr', np.mean(losses[:iter_num, 3]))])\n",
    "    if iter_num == epoch_length:\n",
    "      loss_rpn_cls = np.mean(losses[:, 0])\n",
    "      loss_rpn_regr = np.mean(losses[:, 1])\n",
    "      loss_class_cls = np.mean(losses[:, 2])\n",
    "      loss_class_regr = np.mean(losses[:, 3])\n",
    "      class_acc = np.mean(losses[:, 4])\n",
    "      mean_overlapping_bboxes = float(sum(rpn_accuracy_for_epoch)) / len(rpn_accuracy_for_epoch)\n",
    "      rpn_accuracy_for_epoch = []\n",
    "\n",
    "      if C.verbose:\n",
    "        print('Mean number of bounding boxes from RPN overlapping ground truth boxes: {}'.format(mean_overlapping_bboxes))\n",
    "        print('Classifier accuracy for bounding boxes from RPN: {}'.format(class_acc))\n",
    "        print('Loss RPN classifier: {}'.format(loss_rpn_cls))\n",
    "        print('Loss RPN regression: {}'.format(loss_rpn_regr))\n",
    "        print('Loss Detector classifier: {}'.format(loss_class_cls))\n",
    "        print('Loss Detector regression: {}'.format(loss_class_regr))\n",
    "        print('Elapsed time: {}'.format(time.time() - start_time))\n",
    "\n",
    "      curr_loss = loss_rpn_cls + loss_rpn_regr + loss_class_cls + loss_class_regr\n",
    "      iter_num = 0\n",
    "      start_time = time.time()\n",
    "\n",
    "      #write_log(callback,\n",
    "       #         ['Elapsed_time', 'mean_overlapping_bboxes', 'mean_rpn_cls_loss', 'mean_rpn_reg_loss',\n",
    "        #         'mean_detection_cls_loss', 'mean_detection_reg_loss', 'mean_detection_acc', 'total_loss'],\n",
    "         #       [time.time() - start_time, mean_overlapping_bboxes, loss_rpn_cls, loss_rpn_regr,\n",
    "           #      loss_class_cls, loss_class_regr, class_acc, curr_loss],epoch_num)\n",
    "      if curr_loss < best_loss:\n",
    "        if C.verbose:\n",
    "          print('Total loss decreased from {} to {}, saving weights'.format(best_loss,curr_loss))\n",
    "        best_loss = curr_loss\n",
    "        model_all.save_weights(C.model_path)\n",
    "\n",
    "      break\n",
    "print('Training complete, exiting.')\n",
    "\n"
   ]
  },
  {
   "cell_type": "code",
   "execution_count": null,
   "metadata": {
    "id": "ISKfKow6ROjj"
   },
   "outputs": [],
   "source": [
    "model_all.summary()"
   ]
  },
  {
   "cell_type": "markdown",
   "metadata": {
    "id": "QdcoZRkeMnj3"
   },
   "source": [
    "Testing"
   ]
  },
  {
   "cell_type": "code",
   "execution_count": 169,
   "metadata": {
    "id": "ZXYDynliMmNt"
   },
   "outputs": [],
   "source": [
    "test_path = '/content/drive/MyDrive/models/research/object_detection/images/bbox_test.csv'  "
   ]
  },
  {
   "cell_type": "code",
   "execution_count": 170,
   "metadata": {
    "colab": {
     "base_uri": "https://localhost:8080/"
    },
    "id": "B60umdTnOney",
    "outputId": "8526a21a-7ec7-471b-8eec-5e6a32f48790"
   },
   "outputs": [
    {
     "name": "stdout",
     "output_type": "stream",
     "text": [
      "{0: 'face', 1: 'bg'}\n"
     ]
    }
   ],
   "source": [
    "with open(config_output_filename, 'rb') as f_in:\n",
    "  C = pickle.load(f_in)\n",
    "\n",
    "img_path = '/content/drive/MyDrive/models/research/object_detection/images/test'\n",
    "\n",
    "def format_img_size(img, C):\n",
    "  img_min_size = float(C.im_size)\n",
    "  (height, width, _) = img.shape\n",
    "\n",
    "  if width <= height:\n",
    "    ratio = img_min_size/width\n",
    "    new_height = int(ratio * height)\n",
    "    new_width = int(img_min_size)\n",
    "  else:\n",
    "    ratio = img_min_size / height\n",
    "    new_width = int(ratio * width)\n",
    "    new_height = int(img_min_size)\n",
    "  img = cv2.resize(img, (new_width, new_height), interpolation = cv2.INTER_CUBIC)\n",
    "  return img, ratio\n",
    "\n",
    "def format_img_channels(img, C):\n",
    "  img = img[:, :, (2, 1, 0)]\n",
    "  img = img.astype(np.float32)\n",
    "  img[:, :, 0] -= C.img_channel_mean[0]\n",
    "  img[:, :, 1] -= C.img_channel_mean[1]\n",
    "  img[:, :, 2] -= C.img_channel_mean[2]\n",
    "  img /= C.img_scaling_factor\n",
    "  img = np.transpose(img, (2, 0, 1))\n",
    "  img = np.expand_dims(img, axis=0)\n",
    "  return img\n",
    "\n",
    "def format_img(img, C):\n",
    "  img, ratio = format_img_size(img, C)\n",
    "  img = format_img_channels(img, C)\n",
    "  return img, ratio\n",
    "\n",
    "def get_real_coordinates(ratio, x1, y1, x2, y2):\n",
    "  real_x1 = int(round(x1 // ratio))\n",
    "  real_y1 = int(round(y1 // ratio))\n",
    "  real_x2 = int(round(x2 // ratio))\n",
    "  real_y2 = int(round(y2 // ratio))\n",
    "  return (real_x1, real_y1, real_x2 ,real_y2)\n",
    "\n",
    "class_mapping = C.class_mapping\n",
    "\n",
    "if 'bg' not in class_mapping:\n",
    "  class_mapping['bg'] = len(class_mapping)\n",
    "\n",
    "class_mapping = {v: k for k, v in class_mapping.items()}\n",
    "print(class_mapping)"
   ]
  },
  {
   "cell_type": "code",
   "execution_count": 171,
   "metadata": {
    "id": "uHzhd0_CROGP"
   },
   "outputs": [],
   "source": [
    "class_to_color = {class_mapping[v]: np.random.randint(0, 255, 3) for v in class_mapping}\n",
    "C.num_rois = int(num_rois)\n",
    "num_features = 1088"
   ]
  },
  {
   "cell_type": "code",
   "execution_count": 172,
   "metadata": {
    "id": "hej5P4TTROut"
   },
   "outputs": [],
   "source": [
    "input_shape_img = (None, None, 3)\n",
    "input_shape_features = (None, None, num_features)\n",
    "\n",
    "img_input = Input(shape=input_shape_img)\n",
    "roi_input = Input(shape=(C.num_rois, 4))\n",
    "feature_map_input = Input(shape=input_shape_features)\n"
   ]
  },
  {
   "cell_type": "code",
   "execution_count": 173,
   "metadata": {
    "colab": {
     "base_uri": "https://localhost:8080/"
    },
    "id": "UO2LpbqXTCIg",
    "outputId": "fb5fb981-038a-457c-d00c-d4ef50c6527d"
   },
   "outputs": [
    {
     "name": "stdout",
     "output_type": "stream",
     "text": [
      "Loading weights from /content/drive/MyDrive/models/research/object_detection/images/model_frcnn.hdf5\n"
     ]
    }
   ],
   "source": [
    "shared_layers = nn_base(img_input, trainable= True)\n",
    "num_anchors = len(C.anchor_box_scales) * len(C.anchor_box_ratios)\n",
    "rpn_layers = rpn(shared_layers, num_anchors)\n",
    "classifier_ = classifier(feature_map_input, roi_input, C.num_rois, nb_classes=len(class_mapping), trainable=True)\n",
    "model_rpn = Model(img_input, rpn_layers)\n",
    "model_classifier = Model([feature_map_input, roi_input], classifier_)\n",
    "print('Loading weights from {}'.format(C.model_path))\n",
    "model_rpn.load_weights(C.model_path, by_name=True)\n",
    "model_classifier.load_weights(C.model_path, by_name=True)\n",
    "model_rpn.compile(optimizer='sgd', loss='mse')\n",
    "model_classifier.compile(optimizer='sgd', loss='mse')"
   ]
  },
  {
   "cell_type": "code",
   "execution_count": null,
   "metadata": {
    "id": "XwSvNDGSTEAW"
   },
   "outputs": [],
   "source": [
    "all_imgs = []\n",
    "classes = {}\n",
    "head_count = []\n",
    "bbox_threshold = 0.7\n",
    "visualise = True\n",
    "for idx, img_name in enumerate(sorted(os.listdir(img_path))):\n",
    "  if img_name.lower().endswith('.jpg'):\n",
    "    print(img_name)\n",
    "    st = time.time()\n",
    "    filepath = os.path.join(img_path,img_name)\n",
    "    img = cv2.imread(filepath)\n",
    "    X, ratio = format_img(img, C)\n",
    "    X = np.transpose(X, (0, 2, 3, 1))\n",
    "    [Y1, Y2, F] = model_rpn.predict(X)\n",
    "    R = rpn_to_roi(Y1, Y2, C, K.image_data_format(), overlap_thresh=0.7)\n",
    "    R[:, 2] -= R[:, 0]\n",
    "    R[:, 3] -= R[:, 1]\n",
    "    bboxes = {}\n",
    "    probs = {}\n",
    "    for jk in range(R.shape[0]//C.num_rois + 1):\n",
    "      ROIs = np.expand_dims(R[C.num_rois*jk:C.num_rois*(jk+1), :], axis=0)\n",
    "      if ROIs.shape[1] == 0:\n",
    "        break\n",
    "      if jk == R.shape[0]//C.num_rois:\n",
    "        curr_shape = ROIs.shape\n",
    "        target_shape = (curr_shape[0],C.num_rois,curr_shape[2])\n",
    "        ROIs_padded = np.zeros(target_shape).astype(ROIs.dtype)\n",
    "        ROIs_padded[:, :curr_shape[1], :] = ROIs\n",
    "        ROIs_padded[0, curr_shape[1]:, :] = ROIs[0, 0, :]\n",
    "        ROIs = ROIs_padded\n",
    "      [P_cls, P_regr] = model_classifier.predict([F, ROIs])\n",
    "      for ii in range(P_cls.shape[1]):\n",
    "        if np.max(P_cls[0, ii, :]) < bbox_threshold or np.argmax(P_cls[0, ii, :]) == (P_cls.shape[2] - 1):\n",
    "          continue\n",
    "        cls_name = class_mapping[np.argmax(P_cls[0, ii, :])]\n",
    "        if cls_name not in bboxes:\n",
    "          bboxes[cls_name] = []\n",
    "          probs[cls_name] = []\n",
    "        (x, y, w, h) = ROIs[0, ii, :]\n",
    "        cls_num = np.argmax(P_cls[0, ii, :])\n",
    "        try:\n",
    "          (tx, ty, tw, th) = P_regr[0, ii, 4*cls_num:4*(cls_num+1)]\n",
    "          tx /= C.classifier_regr_std[0]\n",
    "          ty /= C.classifier_regr_std[1]\n",
    "          tw /= C.classifier_regr_std[2]\n",
    "          th /= C.classifier_regr_std[3]\n",
    "          x, y, w, h = apply_regr(x, y, w, h, tx, ty, tw, th)\n",
    "        except:\n",
    "          pass\n",
    "        bboxes[cls_name].append([C.rpn_stride*x, C.rpn_stride*y, C.rpn_stride*(x+w), C.rpn_stride*(y+h)])\n",
    "        probs[cls_name].append(np.max(P_cls[0, ii, :]))\n",
    "    all_dets = []\n",
    "    for key in bboxes:\n",
    "      bbox = np.array(bboxes[key])\n",
    "      new_boxes, new_probs = non_max_suppression_fast(bbox, np.array(probs[key]), overlap_thresh=0.5)\n",
    "      for jk in range(new_boxes.shape[0]):\n",
    "        (x1, y1, x2, y2) = new_boxes[jk,:]\n",
    "        (real_x1, real_y1, real_x2, real_y2) = get_real_coordinates(ratio, x1, y1, x2, y2)\n",
    "        cv2.rectangle(img,(real_x1, real_y1), (real_x2, real_y2), (int(class_to_color[key][0]), int(class_to_color[key][1]), int(class_to_color[key][2])),2)\n",
    "        textLabel = '{}: {}'.format(key,int(100*new_probs[jk]))\n",
    "        all_dets.append((key,100*new_probs[jk]))\n",
    "        (retval,baseLine) = cv2.getTextSize(textLabel,cv2.FONT_HERSHEY_COMPLEX,1,1)\n",
    "        textOrg = (real_x1, real_y1-0)\n",
    "        cv2.rectangle(img, (textOrg[0] - 5, textOrg[1]+baseLine - 5), (textOrg[0]+retval[0] + 5, textOrg[1]-retval[1] - 5), (0, 0, 0), 2)\n",
    "        cv2.rectangle(img, (textOrg[0] - 5,textOrg[1]+baseLine - 5), (textOrg[0]+retval[0] + 5, textOrg[1]-retval[1] - 5), (255, 255, 255), -1)\n",
    "        cv2.putText(img, textLabel, textOrg, cv2.FONT_HERSHEY_DUPLEX, 1, (0, 0, 0), 1)\n",
    "    print('Elapsed time = {}'.format(time.time() - st))\n",
    "    print(all_dets)\n",
    "    head_count.append((img_name, len(all_dets)))\n",
    "    #cv2.imwrite('./results_imgs/{}.png'.format(idx),img)"
   ]
  },
  {
   "cell_type": "code",
   "execution_count": 174,
   "metadata": {
    "id": "JQvckeHXXACH"
   },
   "outputs": [],
   "source": []
  },
  {
   "cell_type": "code",
   "execution_count": 175,
   "metadata": {
    "colab": {
     "base_uri": "https://localhost:8080/"
    },
    "id": "3lKgGpEr4HpF",
    "outputId": "f2407ecc-4d79-4bc6-f5a3-ca698b897701"
   },
   "outputs": [
    {
     "name": "stdout",
     "output_type": "stream",
     "text": [
      "         Name  HeadCount  HeadCount_pred\n",
      "0   10001.jpg          4               1\n",
      "7   10010.jpg          7               5\n",
      "11  10014.jpg          7               4\n",
      "13  10017.jpg          3               0\n",
      "27  10040.jpg          4               2\n",
      "\n",
      "\n",
      "           Name  HeadCount  HeadCount_pred\n",
      "5717  18185.jpg          3               2\n",
      "5718  18187.jpg          3               3\n",
      "5727  18200.jpg          4               1\n",
      "5728  18201.jpg          2               2\n",
      "5730  18204.jpg          5               7\n"
     ]
    }
   ],
   "source": [
    "image_file = []\n",
    "HeadCount = []\n",
    "for i in head_count:\n",
    "  I, H = i\n",
    "  image_file.append(I)\n",
    "  HeadCount.append(H)\n",
    "check_result = pd.read_csv('/content/drive/MyDrive/Face_Count/train_HNzkrPW (1)/train.csv')\n",
    "check_result = check_result[check_result.Name.isin(image_file)]\n",
    "check_result['HeadCount_pred'] = HeadCount\n",
    "print(check_result.head())\n",
    "print('\\n')\n",
    "print(check_result.tail())"
   ]
  },
  {
   "cell_type": "code",
   "execution_count": 176,
   "metadata": {
    "colab": {
     "base_uri": "https://localhost:8080/"
    },
    "id": "rxRMaXUN6pBi",
    "outputId": "0afc9e12-4fc5-4c3a-98d1-2a0e0d84ce58"
   },
   "outputs": [
    {
     "name": "stdout",
     "output_type": "stream",
     "text": [
      "Accuracy: 24.03%\n"
     ]
    }
   ],
   "source": [
    "print('Accuracy: {}%'.format(round(np.mean(check_result.HeadCount == check_result.HeadCount_pred) * 100,2)))"
   ]
  },
  {
   "cell_type": "code",
   "execution_count": 177,
   "metadata": {
    "colab": {
     "base_uri": "https://localhost:8080/",
     "height": 320
    },
    "id": "FE5-0AUWca0l",
    "outputId": "10a8766a-3cfd-4f83-b70f-bb0d84b5c7cf"
   },
   "outputs": [
    {
     "name": "stdout",
     "output_type": "stream",
     "text": [
      "Elapsed time = 1.942845344543457\n",
      "[('face', 96.12815380096436), ('face', 79.07651662826538)]\n"
     ]
    },
    {
     "data": {
      "text/plain": [
       "<matplotlib.image.AxesImage at 0x7fc71100ddd8>"
      ]
     },
     "execution_count": 177,
     "metadata": {
      "tags": []
     },
     "output_type": "execute_result"
    },
    {
     "data": {
      "image/png": "[encoded data removed]",
      "text/plain": [
       "<Figure size 432x288 with 1 Axes>"
      ]
     },
     "metadata": {
      "needs_background": "light",
      "tags": []
     },
     "output_type": "display_data"
    }
   ],
   "source": [
    "import matplotlib.pyplot as plt\n",
    "\n",
    "filepath = os.path.join(img_path,'18201.jpg')\n",
    "img = cv2.imread(filepath)\n",
    "X, ratio = format_img(img, C)\n",
    "X = np.transpose(X, (0, 2, 3, 1))\n",
    "[Y1, Y2, F] = model_rpn.predict(X)\n",
    "R = rpn_to_roi(Y1, Y2, C, K.image_data_format(), overlap_thresh=0.7)\n",
    "R[:, 2] -= R[:, 0]\n",
    "R[:, 3] -= R[:, 1]\n",
    "bboxes = {}\n",
    "probs = {}\n",
    "for jk in range(R.shape[0]//C.num_rois + 1):\n",
    "  ROIs = np.expand_dims(R[C.num_rois*jk:C.num_rois*(jk+1), :], axis=0)\n",
    "  if ROIs.shape[1] == 0:\n",
    "    break\n",
    "  if jk == R.shape[0]//C.num_rois:\n",
    "    curr_shape = ROIs.shape\n",
    "    target_shape = (curr_shape[0],C.num_rois,curr_shape[2])\n",
    "    ROIs_padded = np.zeros(target_shape).astype(ROIs.dtype)\n",
    "    ROIs_padded[:, :curr_shape[1], :] = ROIs\n",
    "    ROIs_padded[0, curr_shape[1]:, :] = ROIs[0, 0, :]\n",
    "    ROIs = ROIs_padded\n",
    "  [P_cls, P_regr] = model_classifier.predict([F, ROIs])\n",
    "  for ii in range(P_cls.shape[1]):\n",
    "    if np.max(P_cls[0, ii, :]) < bbox_threshold or np.argmax(P_cls[0, ii, :]) == (P_cls.shape[2] - 1):\n",
    "      continue\n",
    "    cls_name = class_mapping[np.argmax(P_cls[0, ii, :])]\n",
    "    if cls_name not in bboxes:\n",
    "      bboxes[cls_name] = []\n",
    "      probs[cls_name] = []\n",
    "    (x, y, w, h) = ROIs[0, ii, :]\n",
    "    cls_num = np.argmax(P_cls[0, ii, :])\n",
    "    try:\n",
    "      (tx, ty, tw, th) = P_regr[0, ii, 4*cls_num:4*(cls_num+1)]\n",
    "      tx /= C.classifier_regr_std[0]\n",
    "      ty /= C.classifier_regr_std[1]\n",
    "      tw /= C.classifier_regr_std[2]\n",
    "      th /= C.classifier_regr_std[3]\n",
    "      x, y, w, h = apply_regr(x, y, w, h, tx, ty, tw, th)\n",
    "    except:\n",
    "      pass\n",
    "    bboxes[cls_name].append([C.rpn_stride*x, C.rpn_stride*y, C.rpn_stride*(x+w), C.rpn_stride*(y+h)])\n",
    "    probs[cls_name].append(np.max(P_cls[0, ii, :]))\n",
    "all_dets = []\n",
    "for key in bboxes:\n",
    "  bbox = np.array(bboxes[key])\n",
    "  new_boxes, new_probs = non_max_suppression_fast(bbox, np.array(probs[key]), overlap_thresh=0.5)\n",
    "  for jk in range(new_boxes.shape[0]):\n",
    "    (x1, y1, x2, y2) = new_boxes[jk,:]\n",
    "    (real_x1, real_y1, real_x2, real_y2) = get_real_coordinates(ratio, x1, y1, x2, y2)\n",
    "    cv2.rectangle(img,(real_x1, real_y1), (real_x2, real_y2), (int(class_to_color[key][0]), int(class_to_color[key][1]), int(class_to_color[key][2])),2)\n",
    "    textLabel = '{}: {}'.format(key,int(100*new_probs[jk]))\n",
    "    all_dets.append((key,100*new_probs[jk]))\n",
    "    (retval,baseLine) = cv2.getTextSize(textLabel,cv2.FONT_HERSHEY_COMPLEX,1,1)\n",
    "    textOrg = (real_x1, real_y1-0)\n",
    "    cv2.rectangle(img, (textOrg[0] - 5, textOrg[1]+baseLine - 5), (textOrg[0]+retval[0] + 5, textOrg[1]-retval[1] - 5), (0, 0, 0), 2)\n",
    "    cv2.rectangle(img, (textOrg[0] - 5,textOrg[1]+baseLine - 5), (textOrg[0]+retval[0] + 5, textOrg[1]-retval[1] - 5), (255, 255, 255), -1)\n",
    "    cv2.putText(img, textLabel, textOrg, cv2.FONT_HERSHEY_DUPLEX, 1, (0, 0, 0), 1)\n",
    "print('Elapsed time = {}'.format(time.time() - st))\n",
    "print(all_dets)\n",
    "img = cv2.cvtColor(img, cv2.COLOR_BGR2RGB)\n",
    "plt.imshow(img)"
   ]
  },
  {
   "cell_type": "code",
   "execution_count": 177,
   "metadata": {
    "id": "b5vUfBeTedQw"
   },
   "outputs": [],
   "source": []
  }
 ],
 "metadata": {
  "accelerator": "GPU",
  "colab": {
   "collapsed_sections": [],
   "name": "Face_Count_Faster_RCNN.ipynb",
   "provenance": []
  },
  "kernelspec": {
   "display_name": "Python 3",
   "language": "python",
   "name": "python3"
  },
  "language_info": {
   "codemirror_mode": {
    "name": "ipython",
    "version": 3
   },
   "file_extension": ".py",
   "mimetype": "text/x-python",
   "name": "python",
   "nbconvert_exporter": "python",
   "pygments_lexer": "ipython3",
   "version": "3.8.3"
  },
  "varInspector": {
   "cols": {
    "lenName": 16,
    "lenType": 16,
    "lenVar": 40
   },
   "kernels_config": {
    "python": {
     "delete_cmd_postfix": "",
     "delete_cmd_prefix": "del ",
     "library": "var_list.py",
     "varRefreshCmd": "print(var_dic_list())"
    },
    "r": {
     "delete_cmd_postfix": ") ",
     "delete_cmd_prefix": "rm(",
     "library": "var_list.r",
     "varRefreshCmd": "cat(var_dic_list()) "
    }
   },
   "types_to_exclude": [
    "module",
    "function",
    "builtin_function_or_method",
    "instance",
    "_Feature"
   ],
   "window_display": false
  }
 },
 "nbformat": 4,
 "nbformat_minor": 1
}
